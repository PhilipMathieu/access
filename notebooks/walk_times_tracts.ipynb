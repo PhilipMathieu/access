{
 "cells": [
  {
   "cell_type": "code",
   "execution_count": 1,
   "metadata": {},
   "outputs": [],
   "source": [
    "import pandas as pd\n",
    "import geopandas as gpd\n",
    "import networkx as nx\n",
    "import osmnx as ox\n",
    "from tqdm.notebook import tqdm\n",
    "import contextily as cx\n",
    "import matplotlib.pyplot as plt\n",
    "ox.settings.cache_folder = \"../cache/\""
   ]
  },
  {
   "cell_type": "code",
   "execution_count": 2,
   "metadata": {},
   "outputs": [],
   "source": [
    "tracts = gpd.read_file(\"../data/tl_2022_23_tract_with_nodes/tl_2022_23_tract_with_nodes.shp\")"
   ]
  },
  {
   "cell_type": "code",
   "execution_count": 3,
   "metadata": {},
   "outputs": [],
   "source": [
    "conserved_lands = gpd.read_file(\"../data/Maine_Conserved_Lands_with_nodes/Maine_Conserved_Lands_with_nodes.shp\")"
   ]
  },
  {
   "cell_type": "code",
   "execution_count": 4,
   "metadata": {},
   "outputs": [],
   "source": [
    "G = ox.load_graphml(\"../data/maine_walk.graphml\")\n",
    "G = ox.project_graph(G, 'EPSG:3857')"
   ]
  },
  {
   "cell_type": "code",
   "execution_count": 5,
   "metadata": {},
   "outputs": [],
   "source": [
    "# configure trip times and travel speed\n",
    "trip_times = [5, 10, 15, 20, 30, 45, 60]  # in minutes\n",
    "travel_speed = 4.5  # walking speed in km/hour\n",
    "# add an edge attribute for time in minutes required to traverse each edge\n",
    "meters_per_minute = travel_speed * 1000 / 60  # km per hour to m per minute\n",
    "for _, _, _, data in G.edges(data=True, keys=True):\n",
    "    data[\"time\"] = data[\"length\"] / meters_per_minute"
   ]
  },
  {
   "cell_type": "code",
   "execution_count": 6,
   "metadata": {},
   "outputs": [],
   "source": [
    "def get_lands(center_node = 102322137):\n",
    "    node_times = {}\n",
    "    # loop over allowed trip times, reversed to ensure lowest trip time is selected\n",
    "    for trip_time in reversed(trip_times):\n",
    "        # find subgraph from center node\n",
    "        subgraph = nx.ego_graph(G, center_node, radius=trip_time, distance=\"time\")\n",
    "        # set node distance to current trip_time\n",
    "        for node in subgraph.nodes():\n",
    "            node_times[node] = trip_time\n",
    "\n",
    "    full_dict = {int(node) : node_times[int(node)] if int(node) in node_times else None for node in conserved_lands[\"osmid\"].values}\n",
    "    return [[center_node, k, v] for k, v in full_dict.items() if v is not None]"
   ]
  },
  {
   "cell_type": "code",
   "execution_count": 7,
   "metadata": {},
   "outputs": [],
   "source": [
    "df = pd.DataFrame.from_records([land for node in tqdm(tracts[\"osmid\"].values) for land in get_lands(node)], columns=[\"tract_osmid\",\"land_osmid\",\"trip_time\"])"
   ]
  },
  {
   "cell_type": "code",
   "execution_count": 8,
   "metadata": {},
   "outputs": [
    {
     "data": {
      "text/plain": [
       "<AxesSubplot: >"
      ]
     },
     "execution_count": 8,
     "metadata": {},
     "output_type": "execute_result"
    },
    {
     "data": {
      "image/png": "[encoded data removed]",
      "text/plain": [
       "<Figure size 640x480 with 1 Axes>"
      ]
     },
     "metadata": {},
     "output_type": "display_data"
    }
   ],
   "source": [
    "df[\"trip_time\"].hist()"
   ]
  },
  {
   "cell_type": "code",
   "execution_count": 9,
   "metadata": {},
   "outputs": [],
   "source": [
    "df.to_csv(\"../data/walk_times_tract_df.csv\")"
   ]
  }
 ],
 "metadata": {
  "kernelspec": {
   "display_name": "ox",
   "language": "python",
   "name": "python3"
  },
  "language_info": {
   "codemirror_mode": {
    "name": "ipython",
    "version": 3
   },
   "file_extension": ".py",
   "mimetype": "text/x-python",
   "name": "python",
   "nbconvert_exporter": "python",
   "pygments_lexer": "ipython3",
   "version": "3.11.0"
  },
  "orig_nbformat": 4
 },
 "nbformat": 4,
 "nbformat_minor": 2
}
