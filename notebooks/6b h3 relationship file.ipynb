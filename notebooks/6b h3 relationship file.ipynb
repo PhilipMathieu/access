{
 "cells": [
  {
   "cell_type": "code",
   "execution_count": 1,
   "metadata": {},
   "outputs": [
    {
     "name": "stderr",
     "output_type": "stream",
     "text": [
      "/tmp/ipykernel_2027/2039533087.py:7: TqdmExperimentalWarning: Using `tqdm.autonotebook.tqdm` in notebook mode. Use `tqdm.tqdm` instead to force console mode (e.g. in jupyter console)\n",
      "  from tqdm.autonotebook import tqdm\n"
     ]
    }
   ],
   "source": [
    "import geopandas as gpd\n",
    "import pandas as pd\n",
    "from h3 import h3\n",
    "import h3pandas\n",
    "import matplotlib\n",
    "import matplotlib.pyplot as plt\n",
    "from tqdm.autonotebook import tqdm\n",
    "tqdm.pandas()"
   ]
  },
  {
   "cell_type": "code",
   "execution_count": 2,
   "metadata": {},
   "outputs": [
    {
     "name": "stdout",
     "output_type": "stream",
     "text": [
      "CPU times: user 10.7 s, sys: 1.05 s, total: 11.8 s\n",
      "Wall time: 11.8 s\n"
     ]
    },
    {
     "data": {
      "text/plain": [
       "Index(['STATEFP20', 'COUNTYFP20', 'TRACTCE20', 'BLOCKCE20', 'GEOID20',\n",
       "       'NAME20', 'MTFCC20', 'UR20', 'UACE20', 'UATYPE20', 'FUNCSTAT20',\n",
       "       'ALAND20', 'AWATER20', 'INTPTLAT20', 'INTPTLON20', 'HOUSING20', 'POP20',\n",
       "       'geometry'],\n",
       "      dtype='object')"
      ]
     },
     "execution_count": 2,
     "metadata": {},
     "output_type": "execute_result"
    }
   ],
   "source": [
    "%%time\n",
    "# Read the input shapefile using GeoPandas\n",
    "# Takes approximately 25s\n",
    "blocks_raw = gpd.read_file(\"../data/blocks/tl_2020_23_tabblock20.zip\")\n",
    "blocks_raw.columns"
   ]
  },
  {
   "cell_type": "code",
   "execution_count": 24,
   "metadata": {},
   "outputs": [],
   "source": [
    "# Define the H3 resolution level\n",
    "h3_resolution = 9"
   ]
  },
  {
   "cell_type": "code",
   "execution_count": 25,
   "metadata": {},
   "outputs": [
    {
     "name": "stdout",
     "output_type": "stream",
     "text": [
      "CPU times: user 37.2 s, sys: 53.2 ms, total: 37.3 s\n",
      "Wall time: 37.3 s\n"
     ]
    },
    {
     "data": {
      "text/html": [
       "<div>\n",
       "<style scoped>\n",
       "    .dataframe tbody tr th:only-of-type {\n",
       "        vertical-align: middle;\n",
       "    }\n",
       "\n",
       "    .dataframe tbody tr th {\n",
       "        vertical-align: top;\n",
       "    }\n",
       "\n",
       "    .dataframe thead th {\n",
       "        text-align: right;\n",
       "    }\n",
       "</style>\n",
       "<table border=\"1\" class=\"dataframe\">\n",
       "  <thead>\n",
       "    <tr style=\"text-align: right;\">\n",
       "      <th></th>\n",
       "      <th>GEOID20</th>\n",
       "      <th>geometry</th>\n",
       "      <th>h3_polyfill</th>\n",
       "    </tr>\n",
       "  </thead>\n",
       "  <tbody>\n",
       "    <tr>\n",
       "      <th>0</th>\n",
       "      <td>230110205001020</td>\n",
       "      <td>POLYGON ((-69.48805 44.50404, -69.48773 44.504...</td>\n",
       "      <td>[892b1a09b8fffff, 892b1a09b13ffff, 892b1a09ba3...</td>\n",
       "    </tr>\n",
       "  </tbody>\n",
       "</table>\n",
       "</div>"
      ],
      "text/plain": [
       "           GEOID20                                           geometry  \\\n",
       "0  230110205001020  POLYGON ((-69.48805 44.50404, -69.48773 44.504...   \n",
       "\n",
       "                                         h3_polyfill  \n",
       "0  [892b1a09b8fffff, 892b1a09b13ffff, 892b1a09ba3...  "
      ]
     },
     "execution_count": 25,
     "metadata": {},
     "output_type": "execute_result"
    }
   ],
   "source": [
    "%%time\n",
    "# Drop unneeded columns and get interior blocks using the h3pandas library\n",
    "# Takes approximately 40s\n",
    "blocks = blocks_raw[['GEOID20', 'geometry']].h3.polyfill(h3_resolution)\n",
    "blocks.head(1)"
   ]
  },
  {
   "cell_type": "code",
   "execution_count": 26,
   "metadata": {},
   "outputs": [
    {
     "data": {
      "application/vnd.jupyter.widget-view+json": {
       "model_id": "fa9efc40690f4ba9ae67cc1b3f7b1688",
       "version_major": 2,
       "version_minor": 0
      },
      "text/plain": [
       "  0%|          | 0/47138 [00:00<?, ?it/s]"
      ]
     },
     "metadata": {},
     "output_type": "display_data"
    },
    {
     "data": {
      "text/html": [
       "<div>\n",
       "<style scoped>\n",
       "    .dataframe tbody tr th:only-of-type {\n",
       "        vertical-align: middle;\n",
       "    }\n",
       "\n",
       "    .dataframe tbody tr th {\n",
       "        vertical-align: top;\n",
       "    }\n",
       "\n",
       "    .dataframe thead th {\n",
       "        text-align: right;\n",
       "    }\n",
       "</style>\n",
       "<table border=\"1\" class=\"dataframe\">\n",
       "  <thead>\n",
       "    <tr style=\"text-align: right;\">\n",
       "      <th></th>\n",
       "      <th>GEOID20</th>\n",
       "      <th>geometry</th>\n",
       "      <th>h3_polyfill</th>\n",
       "      <th>h3_boundary</th>\n",
       "    </tr>\n",
       "  </thead>\n",
       "  <tbody>\n",
       "    <tr>\n",
       "      <th>0</th>\n",
       "      <td>230110205001020</td>\n",
       "      <td>POLYGON ((-69.48805 44.50404, -69.48773 44.504...</td>\n",
       "      <td>[892b1a09b8fffff, 892b1a09b13ffff, 892b1a09ba3...</td>\n",
       "      <td>[892b1a7359bffff, 892b1a09b8fffff, 892b1a09b0b...</td>\n",
       "    </tr>\n",
       "  </tbody>\n",
       "</table>\n",
       "</div>"
      ],
      "text/plain": [
       "           GEOID20                                           geometry  \\\n",
       "0  230110205001020  POLYGON ((-69.48805 44.50404, -69.48773 44.504...   \n",
       "\n",
       "                                         h3_polyfill  \\\n",
       "0  [892b1a09b8fffff, 892b1a09b13ffff, 892b1a09ba3...   \n",
       "\n",
       "                                         h3_boundary  \n",
       "0  [892b1a7359bffff, 892b1a09b8fffff, 892b1a09b0b...  "
      ]
     },
     "execution_count": 26,
     "metadata": {},
     "output_type": "execute_result"
    }
   ],
   "source": [
    "# Add additional tiles near the edge of blocks using the h3 core library\n",
    "def get_boundary_tiles(row):\n",
    "    # Convert the polygon geometry to a list of coordinates\n",
    "    try:\n",
    "        coords = list(row['geometry'].exterior.coords)\n",
    "    except AttributeError:\n",
    "        coords = [coord for poly in row['geometry'].geoms for coord in list(poly.exterior.coords)]\n",
    "    # Generate an H3 index for each coordinate using the H3 Core Library\n",
    "    h3ids = [h3.geo_to_h3(lat, lng, h3_resolution) for lng, lat in coords]\n",
    "    # Return a list of unique H3 tiles for the polygon\n",
    "    return list(set(h3ids))\n",
    "\n",
    "# Apply the get_h3ids function to the GeoDataFrame to generate H3 tiles for each polygon\n",
    "blocks['h3_boundary'] = blocks.progress_apply(get_boundary_tiles, axis=1)\n",
    "blocks.head(1)"
   ]
  },
  {
   "cell_type": "code",
   "execution_count": 27,
   "metadata": {},
   "outputs": [
    {
     "data": {
      "text/html": [
       "<div>\n",
       "<style scoped>\n",
       "    .dataframe tbody tr th:only-of-type {\n",
       "        vertical-align: middle;\n",
       "    }\n",
       "\n",
       "    .dataframe tbody tr th {\n",
       "        vertical-align: top;\n",
       "    }\n",
       "\n",
       "    .dataframe thead th {\n",
       "        text-align: right;\n",
       "    }\n",
       "</style>\n",
       "<table border=\"1\" class=\"dataframe\">\n",
       "  <thead>\n",
       "    <tr style=\"text-align: right;\">\n",
       "      <th></th>\n",
       "      <th>GEOID20</th>\n",
       "      <th>geometry</th>\n",
       "      <th>h3_polyfill</th>\n",
       "      <th>h3_boundary</th>\n",
       "      <th>h3ids</th>\n",
       "    </tr>\n",
       "  </thead>\n",
       "  <tbody>\n",
       "    <tr>\n",
       "      <th>0</th>\n",
       "      <td>230110205001020</td>\n",
       "      <td>POLYGON ((-69.48805 44.50404, -69.48773 44.504...</td>\n",
       "      <td>[892b1a09b8fffff, 892b1a09b13ffff, 892b1a09ba3...</td>\n",
       "      <td>[892b1a7359bffff, 892b1a09b8fffff, 892b1a09b0b...</td>\n",
       "      <td>[892b1a09b8fffff, 892b1a7359bffff, 892b1a09b0b...</td>\n",
       "    </tr>\n",
       "  </tbody>\n",
       "</table>\n",
       "</div>"
      ],
      "text/plain": [
       "           GEOID20                                           geometry  \\\n",
       "0  230110205001020  POLYGON ((-69.48805 44.50404, -69.48773 44.504...   \n",
       "\n",
       "                                         h3_polyfill  \\\n",
       "0  [892b1a09b8fffff, 892b1a09b13ffff, 892b1a09ba3...   \n",
       "\n",
       "                                         h3_boundary  \\\n",
       "0  [892b1a7359bffff, 892b1a09b8fffff, 892b1a09b0b...   \n",
       "\n",
       "                                            h3ids  \n",
       "0  [892b1a09b8fffff, 892b1a7359bffff, 892b1a09b0b...  "
      ]
     },
     "execution_count": 27,
     "metadata": {},
     "output_type": "execute_result"
    }
   ],
   "source": [
    "blocks['h3ids'] = (blocks['h3_polyfill'] + blocks['h3_boundary']).apply(set).apply(list)\n",
    "blocks.head(1)"
   ]
  },
  {
   "cell_type": "code",
   "execution_count": 28,
   "metadata": {},
   "outputs": [
    {
     "data": {
      "application/vnd.jupyter.widget-view+json": {
       "model_id": "98a4bd93e0ca41d6a648abe6982a30be",
       "version_major": 2,
       "version_minor": 0
      },
      "text/plain": [
       "  0%|          | 0/47138 [00:00<?, ?it/s]"
      ]
     },
     "metadata": {},
     "output_type": "display_data"
    },
    {
     "name": "stdout",
     "output_type": "stream",
     "text": [
      "CPU times: user 8min 59s, sys: 9.75 s, total: 9min 9s\n",
      "Wall time: 9min\n"
     ]
    },
    {
     "data": {
      "text/html": [
       "<div>\n",
       "<style scoped>\n",
       "    .dataframe tbody tr th:only-of-type {\n",
       "        vertical-align: middle;\n",
       "    }\n",
       "\n",
       "    .dataframe tbody tr th {\n",
       "        vertical-align: top;\n",
       "    }\n",
       "\n",
       "    .dataframe thead th {\n",
       "        text-align: right;\n",
       "    }\n",
       "</style>\n",
       "<table border=\"1\" class=\"dataframe\">\n",
       "  <thead>\n",
       "    <tr style=\"text-align: right;\">\n",
       "      <th></th>\n",
       "      <th>GEOID20</th>\n",
       "      <th>geometry</th>\n",
       "      <th>h3_polyfill</th>\n",
       "      <th>h3_boundary</th>\n",
       "      <th>h3ids</th>\n",
       "      <th>h3_fraction</th>\n",
       "    </tr>\n",
       "  </thead>\n",
       "  <tbody>\n",
       "    <tr>\n",
       "      <th>0</th>\n",
       "      <td>230110205001020</td>\n",
       "      <td>POLYGON ((-69.48805 44.50404, -69.48773 44.504...</td>\n",
       "      <td>[892b1a09b8fffff, 892b1a09b13ffff, 892b1a09ba3...</td>\n",
       "      <td>[892b1a7359bffff, 892b1a09b8fffff, 892b1a09b0b...</td>\n",
       "      <td>[892b1a09b8fffff, 892b1a7359bffff, 892b1a09b0b...</td>\n",
       "      <td>[(892b1a09b8fffff, 0.023596677845086917), (892...</td>\n",
       "    </tr>\n",
       "  </tbody>\n",
       "</table>\n",
       "</div>"
      ],
      "text/plain": [
       "           GEOID20                                           geometry  \\\n",
       "0  230110205001020  POLYGON ((-69.48805 44.50404, -69.48773 44.504...   \n",
       "\n",
       "                                         h3_polyfill  \\\n",
       "0  [892b1a09b8fffff, 892b1a09b13ffff, 892b1a09ba3...   \n",
       "\n",
       "                                         h3_boundary  \\\n",
       "0  [892b1a7359bffff, 892b1a09b8fffff, 892b1a09b0b...   \n",
       "\n",
       "                                            h3ids  \\\n",
       "0  [892b1a09b8fffff, 892b1a7359bffff, 892b1a09b0b...   \n",
       "\n",
       "                                         h3_fraction  \n",
       "0  [(892b1a09b8fffff, 0.023596677845086917), (892...  "
      ]
     },
     "execution_count": 28,
     "metadata": {},
     "output_type": "execute_result"
    }
   ],
   "source": [
    "%%time\n",
    "# Define a function to calculate the fraction of the block area that overlaps each H3 tile\n",
    "# Takes approximately 8 min (less for lower resolutions)\n",
    "def calculate_area_fraction(row):\n",
    "    # Get the list of H3 tiles for the Census Block\n",
    "    h3ids = pd.DataFrame.from_records([{'fraction': 0, 'h3id': tile} for tile in row['h3ids']], index='h3id')\n",
    "    # Add geometry for each tile\n",
    "    h3ids = h3ids.h3.h3_to_geo_boundary().to_crs(3857)\n",
    "    # Calculate the fraction of the intersection of the hexagon to the block\n",
    "    h3ids['fraction'] = h3ids['geometry'].intersection(row['geometry']).area / row['geometry'].area\n",
    "    return list(zip(h3ids.index.values, h3ids['fraction']))\n",
    "\n",
    "# Apply the calculate_population_fraction function to the GeoDataFrame to calculate the population fraction for each H3 tile\n",
    "blocks['h3_fraction']= blocks.to_crs(3857).progress_apply(calculate_area_fraction, axis=1)\n",
    "blocks.head(1)"
   ]
  },
  {
   "cell_type": "code",
   "execution_count": 29,
   "metadata": {},
   "outputs": [
    {
     "data": {
      "text/html": [
       "<div>\n",
       "<style scoped>\n",
       "    .dataframe tbody tr th:only-of-type {\n",
       "        vertical-align: middle;\n",
       "    }\n",
       "\n",
       "    .dataframe tbody tr th {\n",
       "        vertical-align: top;\n",
       "    }\n",
       "\n",
       "    .dataframe thead th {\n",
       "        text-align: right;\n",
       "    }\n",
       "</style>\n",
       "<table border=\"1\" class=\"dataframe\">\n",
       "  <thead>\n",
       "    <tr style=\"text-align: right;\">\n",
       "      <th></th>\n",
       "      <th>GEOID20</th>\n",
       "      <th>h3_fraction</th>\n",
       "      <th>h3id</th>\n",
       "    </tr>\n",
       "  </thead>\n",
       "  <tbody>\n",
       "    <tr>\n",
       "      <th>0</th>\n",
       "      <td>230110205001020</td>\n",
       "      <td>0.023597</td>\n",
       "      <td>892b1a09b8fffff</td>\n",
       "    </tr>\n",
       "  </tbody>\n",
       "</table>\n",
       "</div>"
      ],
      "text/plain": [
       "           GEOID20  h3_fraction          h3id\n",
       "0  230110205001020     0.023597  892b1a09b8fffff"
      ]
     },
     "execution_count": 29,
     "metadata": {},
     "output_type": "execute_result"
    }
   ],
   "source": [
    "blocks_explode = blocks[['GEOID20', 'h3_fraction']].explode('h3_fraction')\n",
    "blocks_explode['h3id'] = blocks_explode['h3_fraction'].apply(lambda x: x[0])\n",
    "blocks_explode['h3_fraction'] = blocks_explode['h3_fraction'].apply(lambda x: x[1])\n",
    "blocks_explode.head(1)"
   ]
  },
  {
   "cell_type": "code",
   "execution_count": 30,
   "metadata": {},
   "outputs": [],
   "source": [
    "# Write the output GeoDataFrame to a CSV file\n",
    "output_file = f\"../data/blocks/tl_2020_23_tabblock20_h3_{h3_resolution}.csv\"\n",
    "blocks_explode.to_csv(output_file, index=False)"
   ]
  },
  {
   "cell_type": "code",
   "execution_count": null,
   "metadata": {},
   "outputs": [],
   "source": []
  }
 ],
 "metadata": {
  "kernelspec": {
   "display_name": "ox",
   "language": "python",
   "name": "python3"
  },
  "language_info": {
   "codemirror_mode": {
    "name": "ipython",
    "version": 3
   },
   "file_extension": ".py",
   "mimetype": "text/x-python",
   "name": "python",
   "nbconvert_exporter": "python",
   "pygments_lexer": "ipython3",
   "version": "3.11.0"
  },
  "orig_nbformat": 4
 },
 "nbformat": 4,
 "nbformat_minor": 2
}
