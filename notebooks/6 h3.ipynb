{
 "cells": [
  {
   "cell_type": "code",
   "execution_count": 40,
   "metadata": {},
   "outputs": [],
   "source": [
    "import geopandas as gpd\n",
    "import pandas as pd\n",
    "from h3 import h3\n",
    "import h3pandas\n",
    "import matplotlib\n",
    "import matplotlib.pyplot as plt\n",
    "from tqdm.autonotebook import tqdm\n",
    "tqdm.pandas()"
   ]
  },
  {
   "cell_type": "code",
   "execution_count": 2,
   "metadata": {},
   "outputs": [
    {
     "data": {
      "text/plain": [
       "Index(['STATEFP20', 'COUNTYFP20', 'TRACTCE20', 'BLOCKCE20', 'GEOID20',\n",
       "       'NAME20', 'MTFCC20', 'UR20', 'UACE20', 'UATYPE20', 'FUNCSTAT20',\n",
       "       'ALAND20', 'AWATER20', 'INTPTLAT20', 'INTPTLON20', 'HOUSING20', 'POP20',\n",
       "       'geometry'],\n",
       "      dtype='object')"
      ]
     },
     "execution_count": 2,
     "metadata": {},
     "output_type": "execute_result"
    }
   ],
   "source": [
    "# Read the input shapefile using GeoPandas\n",
    "gdf_raw = gpd.read_file(\"../data/blocks/tl_2020_23_tabblock20.zip\")\n",
    "gdf_raw.columns"
   ]
  },
  {
   "cell_type": "code",
   "execution_count": 3,
   "metadata": {},
   "outputs": [
    {
     "data": {
      "text/html": [
       "<div>\n",
       "<style scoped>\n",
       "    .dataframe tbody tr th:only-of-type {\n",
       "        vertical-align: middle;\n",
       "    }\n",
       "\n",
       "    .dataframe tbody tr th {\n",
       "        vertical-align: top;\n",
       "    }\n",
       "\n",
       "    .dataframe thead th {\n",
       "        text-align: right;\n",
       "    }\n",
       "</style>\n",
       "<table border=\"1\" class=\"dataframe\">\n",
       "  <thead>\n",
       "    <tr style=\"text-align: right;\">\n",
       "      <th></th>\n",
       "      <th>GEO_ID</th>\n",
       "      <th>P1_001N</th>\n",
       "      <th>state</th>\n",
       "      <th>county</th>\n",
       "      <th>tract</th>\n",
       "      <th>block</th>\n",
       "      <th>GEOID</th>\n",
       "    </tr>\n",
       "  </thead>\n",
       "  <tbody>\n",
       "    <tr>\n",
       "      <th>0</th>\n",
       "      <td>1000000US230050047021018</td>\n",
       "      <td>98.0</td>\n",
       "      <td>23</td>\n",
       "      <td>005</td>\n",
       "      <td>004702</td>\n",
       "      <td>1018</td>\n",
       "      <td>230050047021018</td>\n",
       "    </tr>\n",
       "  </tbody>\n",
       "</table>\n",
       "</div>"
      ],
      "text/plain": [
       "                     GEO_ID  P1_001N state county   tract block  \\\n",
       "0  1000000US230050047021018     98.0    23    005  004702  1018   \n",
       "\n",
       "             GEOID  \n",
       "0  230050047021018  "
      ]
     },
     "execution_count": 3,
     "metadata": {},
     "output_type": "execute_result"
    }
   ],
   "source": [
    "from census import Census\n",
    "from dotenv import dotenv_values\n",
    "config = dotenv_values(\".env\")\n",
    "c = Census(config[\"CENSUS_API_KEY\"])\n",
    "\n",
    "block_pops = pd.DataFrame.from_records(c.pl.state_county_block(fields=('GEO_ID', 'P1_001N'),\n",
    "                                      state_fips = \"23\",\n",
    "                                      county_fips = \"*\",\n",
    "                                      blockgroup=\"*\",\n",
    "                                      block=\"*\",\n",
    "                                      year = 2020))\n",
    "block_pops[\"GEOID\"] = block_pops[\"GEO_ID\"].apply(lambda s: s[9:])\n",
    "block_pops.head(1)"
   ]
  },
  {
   "cell_type": "code",
   "execution_count": 4,
   "metadata": {},
   "outputs": [
    {
     "data": {
      "text/plain": [
       "Index(['STATEFP20', 'COUNTYFP20', 'TRACTCE20', 'BLOCKCE20', 'GEOID20',\n",
       "       'NAME20', 'MTFCC20', 'UR20', 'UACE20', 'UATYPE20', 'FUNCSTAT20',\n",
       "       'ALAND20', 'AWATER20', 'INTPTLAT20', 'INTPTLON20', 'HOUSING20', 'POP20',\n",
       "       'geometry', 'GEO_ID', 'P1_001N', 'state', 'county', 'tract', 'block',\n",
       "       'GEOID'],\n",
       "      dtype='object')"
      ]
     },
     "execution_count": 4,
     "metadata": {},
     "output_type": "execute_result"
    }
   ],
   "source": [
    "gdf_raw = gdf_raw.merge(block_pops, left_on=\"GEOID20\", right_on=\"GEOID\")\n",
    "gdf_raw.columns"
   ]
  },
  {
   "cell_type": "code",
   "execution_count": 22,
   "metadata": {},
   "outputs": [],
   "source": [
    "# Define the H3 resolution level\n",
    "h3_resolution = 8\n",
    "gdf = gdf_raw.copy()"
   ]
  },
  {
   "cell_type": "code",
   "execution_count": 23,
   "metadata": {},
   "outputs": [
    {
     "data": {
      "application/vnd.jupyter.widget-view+json": {
       "model_id": "d09bdc9cad454f9d893ecd5753028594",
       "version_major": 2,
       "version_minor": 0
      },
      "text/plain": [
       "  0%|          | 0/47138 [00:00<?, ?it/s]"
      ]
     },
     "metadata": {},
     "output_type": "display_data"
    }
   ],
   "source": [
    "# Define a function to generate H3 tiles for each polygon in the GeoDataFrame\n",
    "def get_h3_tiles(row):\n",
    "    # Convert the polygon geometry to a list of coordinates\n",
    "    try:\n",
    "        coords = list(row['geometry'].exterior.coords)\n",
    "    except AttributeError:\n",
    "        coords = [coord for poly in row['geometry'].geoms for coord in list(poly.exterior.coords)]\n",
    "    # Generate an H3 index for each coordinate using the H3 Core Library\n",
    "    h3_tiles = [h3.geo_to_h3(lat, lng, h3_resolution) for lng, lat in coords]\n",
    "    # Return a list of unique H3 tiles for the polygon\n",
    "    return list(set(h3_tiles))\n",
    "\n",
    "# Apply the get_h3_tiles function to the GeoDataFrame to generate H3 tiles for each polygon\n",
    "gdf['h3_tiles'] = gdf.progress_apply(get_h3_tiles, axis=1)"
   ]
  },
  {
   "cell_type": "code",
   "execution_count": 24,
   "metadata": {},
   "outputs": [
    {
     "data": {
      "text/html": [
       "<div>\n",
       "<style scoped>\n",
       "    .dataframe tbody tr th:only-of-type {\n",
       "        vertical-align: middle;\n",
       "    }\n",
       "\n",
       "    .dataframe tbody tr th {\n",
       "        vertical-align: top;\n",
       "    }\n",
       "\n",
       "    .dataframe thead th {\n",
       "        text-align: right;\n",
       "    }\n",
       "</style>\n",
       "<table border=\"1\" class=\"dataframe\">\n",
       "  <thead>\n",
       "    <tr style=\"text-align: right;\">\n",
       "      <th></th>\n",
       "      <th>STATEFP20</th>\n",
       "      <th>COUNTYFP20</th>\n",
       "      <th>TRACTCE20</th>\n",
       "      <th>BLOCKCE20</th>\n",
       "      <th>GEOID20</th>\n",
       "      <th>NAME20</th>\n",
       "      <th>MTFCC20</th>\n",
       "      <th>UR20</th>\n",
       "      <th>UACE20</th>\n",
       "      <th>UATYPE20</th>\n",
       "      <th>...</th>\n",
       "      <th>geometry</th>\n",
       "      <th>GEO_ID</th>\n",
       "      <th>P1_001N</th>\n",
       "      <th>state</th>\n",
       "      <th>county</th>\n",
       "      <th>tract</th>\n",
       "      <th>block</th>\n",
       "      <th>GEOID</th>\n",
       "      <th>h3_tiles</th>\n",
       "      <th>h3_polyfill</th>\n",
       "    </tr>\n",
       "  </thead>\n",
       "  <tbody>\n",
       "    <tr>\n",
       "      <th>0</th>\n",
       "      <td>23</td>\n",
       "      <td>011</td>\n",
       "      <td>020500</td>\n",
       "      <td>1020</td>\n",
       "      <td>230110205001020</td>\n",
       "      <td>Block 1020</td>\n",
       "      <td>G5040</td>\n",
       "      <td>R</td>\n",
       "      <td>NaN</td>\n",
       "      <td>NaN</td>\n",
       "      <td>...</td>\n",
       "      <td>POLYGON ((-69.48805 44.50404, -69.48773 44.504...</td>\n",
       "      <td>1000000US230110205001020</td>\n",
       "      <td>101.0</td>\n",
       "      <td>23</td>\n",
       "      <td>011</td>\n",
       "      <td>020500</td>\n",
       "      <td>1020</td>\n",
       "      <td>230110205001020</td>\n",
       "      <td>[882b1a09b3fffff, 882b1a0995fffff, 882b1a7359f...</td>\n",
       "      <td>[882b1a7359fffff, 882b1a7357fffff, 882b1a09b1f...</td>\n",
       "    </tr>\n",
       "  </tbody>\n",
       "</table>\n",
       "<p>1 rows × 27 columns</p>\n",
       "</div>"
      ],
      "text/plain": [
       "  STATEFP20 COUNTYFP20 TRACTCE20 BLOCKCE20          GEOID20      NAME20  \\\n",
       "0        23        011    020500      1020  230110205001020  Block 1020   \n",
       "\n",
       "  MTFCC20 UR20 UACE20 UATYPE20  ...  \\\n",
       "0   G5040    R    NaN      NaN  ...   \n",
       "\n",
       "                                            geometry  \\\n",
       "0  POLYGON ((-69.48805 44.50404, -69.48773 44.504...   \n",
       "\n",
       "                     GEO_ID  P1_001N state county   tract  block  \\\n",
       "0  1000000US230110205001020    101.0    23    011  020500   1020   \n",
       "\n",
       "             GEOID                                           h3_tiles  \\\n",
       "0  230110205001020  [882b1a09b3fffff, 882b1a0995fffff, 882b1a7359f...   \n",
       "\n",
       "                                         h3_polyfill  \n",
       "0  [882b1a7359fffff, 882b1a7357fffff, 882b1a09b1f...  \n",
       "\n",
       "[1 rows x 27 columns]"
      ]
     },
     "execution_count": 24,
     "metadata": {},
     "output_type": "execute_result"
    }
   ],
   "source": [
    "gdf = gdf.h3.polyfill(h3_resolution)\n",
    "gdf.head(1)"
   ]
  },
  {
   "cell_type": "code",
   "execution_count": 25,
   "metadata": {},
   "outputs": [],
   "source": [
    "gdf['h3_tiles'] = gdf['h3_polyfill'] + gdf['h3_tiles']"
   ]
  },
  {
   "cell_type": "code",
   "execution_count": 26,
   "metadata": {},
   "outputs": [],
   "source": [
    "gdf['h3_tiles'] = gdf['h3_tiles'].apply(set).apply(list)"
   ]
  },
  {
   "cell_type": "code",
   "execution_count": 27,
   "metadata": {},
   "outputs": [
    {
     "data": {
      "application/vnd.jupyter.widget-view+json": {
       "model_id": "ef67407381a343f2bc9b9285d0238f4c",
       "version_major": 2,
       "version_minor": 0
      },
      "text/plain": [
       "  0%|          | 0/47138 [00:00<?, ?it/s]"
      ]
     },
     "metadata": {},
     "output_type": "display_data"
    }
   ],
   "source": [
    "# Define a function to calculate the fraction of population in each H3 tile\n",
    "def calculate_population_fraction(row):\n",
    "    # Get the population for the Census Block\n",
    "    population = row['P1_001N']\n",
    "    # Get the list of H3 tiles for the Census Block\n",
    "    h3_tiles = pd.DataFrame({'POPULATION': [population for tile in row['h3_tiles']]}, index=row['h3_tiles'])\n",
    "    h3_tiles = h3_tiles.h3.h3_to_geo_boundary().to_crs(3857)\n",
    "    # Create a dictionary to store the population for each H3 tile\n",
    "    fraction = h3_tiles['geometry'].intersection(row['geometry']).area / row['geometry'].area\n",
    "    h3_tiles['POPULATION'] = population * fraction\n",
    "    # Return the dictionary of H3 tile population fractions\n",
    "    return [{tile[\"index\"]: tile[\"POPULATION\"]} for tile in h3_tiles[[\"POPULATION\"]].reset_index().to_dict('records')]\n",
    "\n",
    "# Apply the calculate_population_fraction function to the GeoDataFrame to calculate the population fraction for each H3 tile\n",
    "gdf['h3_population'] = gdf.to_crs(3857).progress_apply(calculate_population_fraction, axis=1)"
   ]
  },
  {
   "cell_type": "code",
   "execution_count": 28,
   "metadata": {},
   "outputs": [
    {
     "data": {
      "text/html": [
       "<div>\n",
       "<style scoped>\n",
       "    .dataframe tbody tr th:only-of-type {\n",
       "        vertical-align: middle;\n",
       "    }\n",
       "\n",
       "    .dataframe tbody tr th {\n",
       "        vertical-align: top;\n",
       "    }\n",
       "\n",
       "    .dataframe thead th {\n",
       "        text-align: right;\n",
       "    }\n",
       "</style>\n",
       "<table border=\"1\" class=\"dataframe\">\n",
       "  <thead>\n",
       "    <tr style=\"text-align: right;\">\n",
       "      <th></th>\n",
       "      <th>STATEFP20</th>\n",
       "      <th>COUNTYFP20</th>\n",
       "      <th>TRACTCE20</th>\n",
       "      <th>BLOCKCE20</th>\n",
       "      <th>GEOID20</th>\n",
       "      <th>NAME20</th>\n",
       "      <th>MTFCC20</th>\n",
       "      <th>UR20</th>\n",
       "      <th>UACE20</th>\n",
       "      <th>UATYPE20</th>\n",
       "      <th>...</th>\n",
       "      <th>GEO_ID</th>\n",
       "      <th>P1_001N</th>\n",
       "      <th>state</th>\n",
       "      <th>county</th>\n",
       "      <th>tract</th>\n",
       "      <th>block</th>\n",
       "      <th>GEOID</th>\n",
       "      <th>h3_tiles</th>\n",
       "      <th>h3_polyfill</th>\n",
       "      <th>h3_population</th>\n",
       "    </tr>\n",
       "  </thead>\n",
       "  <tbody>\n",
       "    <tr>\n",
       "      <th>0</th>\n",
       "      <td>23</td>\n",
       "      <td>011</td>\n",
       "      <td>020500</td>\n",
       "      <td>1020</td>\n",
       "      <td>230110205001020</td>\n",
       "      <td>Block 1020</td>\n",
       "      <td>G5040</td>\n",
       "      <td>R</td>\n",
       "      <td>NaN</td>\n",
       "      <td>NaN</td>\n",
       "      <td>...</td>\n",
       "      <td>1000000US230110205001020</td>\n",
       "      <td>101.0</td>\n",
       "      <td>23</td>\n",
       "      <td>011</td>\n",
       "      <td>020500</td>\n",
       "      <td>1020</td>\n",
       "      <td>230110205001020</td>\n",
       "      <td>[882b1a0995fffff, 882b1a7359fffff, 882b1a09b9f...</td>\n",
       "      <td>[882b1a7359fffff, 882b1a7357fffff, 882b1a09b1f...</td>\n",
       "      <td>[{'882b1a0995fffff': 0.45938218777094786}, {'8...</td>\n",
       "    </tr>\n",
       "  </tbody>\n",
       "</table>\n",
       "<p>1 rows × 28 columns</p>\n",
       "</div>"
      ],
      "text/plain": [
       "  STATEFP20 COUNTYFP20 TRACTCE20 BLOCKCE20          GEOID20      NAME20  \\\n",
       "0        23        011    020500      1020  230110205001020  Block 1020   \n",
       "\n",
       "  MTFCC20 UR20 UACE20 UATYPE20  ...                    GEO_ID  P1_001N  state  \\\n",
       "0   G5040    R    NaN      NaN  ...  1000000US230110205001020    101.0     23   \n",
       "\n",
       "  county   tract  block            GEOID  \\\n",
       "0    011  020500   1020  230110205001020   \n",
       "\n",
       "                                            h3_tiles  \\\n",
       "0  [882b1a0995fffff, 882b1a7359fffff, 882b1a09b9f...   \n",
       "\n",
       "                                         h3_polyfill  \\\n",
       "0  [882b1a7359fffff, 882b1a7357fffff, 882b1a09b1f...   \n",
       "\n",
       "                                       h3_population  \n",
       "0  [{'882b1a0995fffff': 0.45938218777094786}, {'8...  \n",
       "\n",
       "[1 rows x 28 columns]"
      ]
     },
     "execution_count": 28,
     "metadata": {},
     "output_type": "execute_result"
    }
   ],
   "source": [
    "gdf.head(1)"
   ]
  },
  {
   "cell_type": "code",
   "execution_count": 29,
   "metadata": {},
   "outputs": [],
   "source": [
    "# Explode the GeoDataFrame on the 'h3_population' column to create a new row for each H3 tile/population fraction pair\n",
    "gdf = gdf.explode('h3_population')"
   ]
  },
  {
   "cell_type": "code",
   "execution_count": 30,
   "metadata": {},
   "outputs": [
    {
     "data": {
      "text/html": [
       "<div>\n",
       "<style scoped>\n",
       "    .dataframe tbody tr th:only-of-type {\n",
       "        vertical-align: middle;\n",
       "    }\n",
       "\n",
       "    .dataframe tbody tr th {\n",
       "        vertical-align: top;\n",
       "    }\n",
       "\n",
       "    .dataframe thead th {\n",
       "        text-align: right;\n",
       "    }\n",
       "</style>\n",
       "<table border=\"1\" class=\"dataframe\">\n",
       "  <thead>\n",
       "    <tr style=\"text-align: right;\">\n",
       "      <th></th>\n",
       "      <th>STATEFP20</th>\n",
       "      <th>COUNTYFP20</th>\n",
       "      <th>TRACTCE20</th>\n",
       "      <th>BLOCKCE20</th>\n",
       "      <th>GEOID20</th>\n",
       "      <th>NAME20</th>\n",
       "      <th>MTFCC20</th>\n",
       "      <th>UR20</th>\n",
       "      <th>UACE20</th>\n",
       "      <th>UATYPE20</th>\n",
       "      <th>...</th>\n",
       "      <th>GEO_ID</th>\n",
       "      <th>P1_001N</th>\n",
       "      <th>state</th>\n",
       "      <th>county</th>\n",
       "      <th>tract</th>\n",
       "      <th>block</th>\n",
       "      <th>GEOID</th>\n",
       "      <th>h3_tiles</th>\n",
       "      <th>h3_polyfill</th>\n",
       "      <th>h3_population</th>\n",
       "    </tr>\n",
       "  </thead>\n",
       "  <tbody>\n",
       "    <tr>\n",
       "      <th>0</th>\n",
       "      <td>23</td>\n",
       "      <td>011</td>\n",
       "      <td>020500</td>\n",
       "      <td>1020</td>\n",
       "      <td>230110205001020</td>\n",
       "      <td>Block 1020</td>\n",
       "      <td>G5040</td>\n",
       "      <td>R</td>\n",
       "      <td>NaN</td>\n",
       "      <td>NaN</td>\n",
       "      <td>...</td>\n",
       "      <td>1000000US230110205001020</td>\n",
       "      <td>101.0</td>\n",
       "      <td>23</td>\n",
       "      <td>011</td>\n",
       "      <td>020500</td>\n",
       "      <td>1020</td>\n",
       "      <td>230110205001020</td>\n",
       "      <td>[882b1a0995fffff, 882b1a7359fffff, 882b1a09b9f...</td>\n",
       "      <td>[882b1a7359fffff, 882b1a7357fffff, 882b1a09b1f...</td>\n",
       "      <td>{'882b1a0995fffff': 0.45938218777094786}</td>\n",
       "    </tr>\n",
       "  </tbody>\n",
       "</table>\n",
       "<p>1 rows × 28 columns</p>\n",
       "</div>"
      ],
      "text/plain": [
       "  STATEFP20 COUNTYFP20 TRACTCE20 BLOCKCE20          GEOID20      NAME20  \\\n",
       "0        23        011    020500      1020  230110205001020  Block 1020   \n",
       "\n",
       "  MTFCC20 UR20 UACE20 UATYPE20  ...                    GEO_ID  P1_001N  state  \\\n",
       "0   G5040    R    NaN      NaN  ...  1000000US230110205001020    101.0     23   \n",
       "\n",
       "  county   tract  block            GEOID  \\\n",
       "0    011  020500   1020  230110205001020   \n",
       "\n",
       "                                            h3_tiles  \\\n",
       "0  [882b1a0995fffff, 882b1a7359fffff, 882b1a09b9f...   \n",
       "\n",
       "                                         h3_polyfill  \\\n",
       "0  [882b1a7359fffff, 882b1a7357fffff, 882b1a09b1f...   \n",
       "\n",
       "                              h3_population  \n",
       "0  {'882b1a0995fffff': 0.45938218777094786}  \n",
       "\n",
       "[1 rows x 28 columns]"
      ]
     },
     "execution_count": 30,
     "metadata": {},
     "output_type": "execute_result"
    }
   ],
   "source": [
    "gdf.head(1)"
   ]
  },
  {
   "cell_type": "code",
   "execution_count": 31,
   "metadata": {},
   "outputs": [
    {
     "data": {
      "application/vnd.jupyter.widget-view+json": {
       "model_id": "ecd049378fc04fb29cc459306079e763",
       "version_major": 2,
       "version_minor": 0
      },
      "text/plain": [
       "  0%|          | 0/309032 [00:00<?, ?it/s]"
      ]
     },
     "metadata": {},
     "output_type": "display_data"
    }
   ],
   "source": [
    "# Split the 'h3_population' column into separate 'h3_tile' and 'population_fraction' columns\n",
    "gdf['h3_tile'] = gdf['h3_population'].apply(lambda x: list(x.keys())[0])\n",
    "gdf['population_fraction'] = gdf['h3_population'].apply(lambda x: list(x.values())[0])"
   ]
  },
  {
   "cell_type": "code",
   "execution_count": 32,
   "metadata": {},
   "outputs": [
    {
     "data": {
      "text/html": [
       "<div>\n",
       "<style scoped>\n",
       "    .dataframe tbody tr th:only-of-type {\n",
       "        vertical-align: middle;\n",
       "    }\n",
       "\n",
       "    .dataframe tbody tr th {\n",
       "        vertical-align: top;\n",
       "    }\n",
       "\n",
       "    .dataframe thead th {\n",
       "        text-align: right;\n",
       "    }\n",
       "</style>\n",
       "<table border=\"1\" class=\"dataframe\">\n",
       "  <thead>\n",
       "    <tr style=\"text-align: right;\">\n",
       "      <th></th>\n",
       "      <th>STATEFP20</th>\n",
       "      <th>COUNTYFP20</th>\n",
       "      <th>TRACTCE20</th>\n",
       "      <th>BLOCKCE20</th>\n",
       "      <th>GEOID20</th>\n",
       "      <th>NAME20</th>\n",
       "      <th>MTFCC20</th>\n",
       "      <th>UR20</th>\n",
       "      <th>UACE20</th>\n",
       "      <th>UATYPE20</th>\n",
       "      <th>...</th>\n",
       "      <th>state</th>\n",
       "      <th>county</th>\n",
       "      <th>tract</th>\n",
       "      <th>block</th>\n",
       "      <th>GEOID</th>\n",
       "      <th>h3_tiles</th>\n",
       "      <th>h3_polyfill</th>\n",
       "      <th>h3_population</th>\n",
       "      <th>h3_tile</th>\n",
       "      <th>population_fraction</th>\n",
       "    </tr>\n",
       "  </thead>\n",
       "  <tbody>\n",
       "    <tr>\n",
       "      <th>0</th>\n",
       "      <td>23</td>\n",
       "      <td>011</td>\n",
       "      <td>020500</td>\n",
       "      <td>1020</td>\n",
       "      <td>230110205001020</td>\n",
       "      <td>Block 1020</td>\n",
       "      <td>G5040</td>\n",
       "      <td>R</td>\n",
       "      <td>NaN</td>\n",
       "      <td>NaN</td>\n",
       "      <td>...</td>\n",
       "      <td>23</td>\n",
       "      <td>011</td>\n",
       "      <td>020500</td>\n",
       "      <td>1020</td>\n",
       "      <td>230110205001020</td>\n",
       "      <td>[882b1a0995fffff, 882b1a7359fffff, 882b1a09b9f...</td>\n",
       "      <td>[882b1a7359fffff, 882b1a7357fffff, 882b1a09b1f...</td>\n",
       "      <td>{'882b1a0995fffff': 0.45938218777094786}</td>\n",
       "      <td>882b1a0995fffff</td>\n",
       "      <td>0.459382</td>\n",
       "    </tr>\n",
       "  </tbody>\n",
       "</table>\n",
       "<p>1 rows × 30 columns</p>\n",
       "</div>"
      ],
      "text/plain": [
       "  STATEFP20 COUNTYFP20 TRACTCE20 BLOCKCE20          GEOID20      NAME20  \\\n",
       "0        23        011    020500      1020  230110205001020  Block 1020   \n",
       "\n",
       "  MTFCC20 UR20 UACE20 UATYPE20  ... state  county   tract block  \\\n",
       "0   G5040    R    NaN      NaN  ...    23     011  020500  1020   \n",
       "\n",
       "             GEOID                                           h3_tiles  \\\n",
       "0  230110205001020  [882b1a0995fffff, 882b1a7359fffff, 882b1a09b9f...   \n",
       "\n",
       "                                         h3_polyfill  \\\n",
       "0  [882b1a7359fffff, 882b1a7357fffff, 882b1a09b1f...   \n",
       "\n",
       "                              h3_population          h3_tile  \\\n",
       "0  {'882b1a0995fffff': 0.45938218777094786}  882b1a0995fffff   \n",
       "\n",
       "   population_fraction  \n",
       "0             0.459382  \n",
       "\n",
       "[1 rows x 30 columns]"
      ]
     },
     "execution_count": 32,
     "metadata": {},
     "output_type": "execute_result"
    }
   ],
   "source": [
    "gdf.head(1)"
   ]
  },
  {
   "cell_type": "code",
   "execution_count": 33,
   "metadata": {},
   "outputs": [],
   "source": [
    "# Drop the original 'h3_population' column and the 'geometry' column\n",
    "gdf.drop(columns=['h3_tiles', 'h3_population', 'geometry'], inplace=True)\n",
    "\n",
    "# Group the GeoDataFrame by 'h3_tile' and sum the 'population_fraction' column to get the total population fraction for each H3 tile\n",
    "gdf = gdf.groupby('h3_tile', as_index=False).sum(numeric_only=True)"
   ]
  },
  {
   "cell_type": "code",
   "execution_count": 34,
   "metadata": {},
   "outputs": [],
   "source": [
    "# Write the output GeoDataFrame to a CSV file\n",
    "output_file = f\"../data/blocks/tl_2020_23_tabblock20_h3_{h3_resolution}.csv\"\n",
    "gdf.to_csv(output_file, columns=['h3_tile', 'population_fraction'], index=False)"
   ]
  },
  {
   "cell_type": "code",
   "execution_count": 38,
   "metadata": {},
   "outputs": [],
   "source": [
    "# Check the output\n",
    "resolutions = range(5,9)\n",
    "dfs = [pd.read_csv(f\"../data/blocks/tl_2020_23_tabblock20_h3_{resolution}.csv\", index_col=0) for resolution in resolutions]\n",
    "gdfs = [df.h3.h3_to_geo_boundary() for df in dfs]"
   ]
  },
  {
   "cell_type": "code",
   "execution_count": 56,
   "metadata": {},
   "outputs": [],
   "source": [
    "vmax = gdfs[0].population_fraction.max()\n",
    "fig, axs = plt.subplots(1, len(dfs), figsize=(20,8))\n",
    "for i, gdf in enumerate(gdfs):\n",
    "    ax = axs[i]\n",
    "    gdf.plot('population_fraction', ax=ax, norm=matplotlib.colors.LogNorm(vmin=1, vmax=vmax))\n",
    "    ax.set_title(f\"{resolutions[i]}\")\n",
    "    ax.axis(\"off\")\n",
    "fig.suptitle(\"Comparison of H3 Resolutions for Population Data\")\n"
   ]
  },
  {
   "cell_type": "code",
   "execution_count": null,
   "metadata": {},
   "outputs": [],
   "source": []
  }
 ],
 "metadata": {
  "kernelspec": {
   "display_name": "ox",
   "language": "python",
   "name": "python3"
  },
  "language_info": {
   "codemirror_mode": {
    "name": "ipython",
    "version": 3
   },
   "file_extension": ".py",
   "mimetype": "text/x-python",
   "name": "python",
   "nbconvert_exporter": "python",
   "pygments_lexer": "ipython3",
   "version": "3.11.0"
  },
  "orig_nbformat": 4
 },
 "nbformat": 4,
 "nbformat_minor": 2
}
