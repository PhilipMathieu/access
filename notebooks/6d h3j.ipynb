{
 "cells": [
  {
   "cell_type": "code",
   "execution_count": 1,
   "metadata": {},
   "outputs": [],
   "source": [
    "%load_ext autoreload\n",
    "%autoreload 2"
   ]
  },
  {
   "cell_type": "code",
   "execution_count": 2,
   "metadata": {},
   "outputs": [],
   "source": [
    "import geopandas as gpd\n",
    "import sys\n",
    "sys.path.append('../src/')\n",
    "from h3utils import *"
   ]
  },
  {
   "cell_type": "code",
   "execution_count": 3,
   "metadata": {},
   "outputs": [
    {
     "data": {
      "text/plain": [
       "Index(['GEOID20', 'ALAND20', 'AWATER20', 'HOUSING20', 'POP20', 'osmid_x',\n",
       "       'tract_osmi', 'land_osmid', 'trip_time', 'RPT_AC', 'CALC_AC',\n",
       "       'IUCN_STATU', 'CL_UNIQUEI', 'OBJECTID', 'ShapeSTAre', 'ShapeSTLen',\n",
       "       'osmid_y', 'AC_5', 'AC_10', 'AC_15', 'AC_20', 'AC_30', 'AC_45', 'AC_60',\n",
       "       'GEOID_grp', 'GEOID_trac', 'GEO_ID', 'P1_001N', 'P1_003N', 'P2_001N',\n",
       "       'P2_002N', 'state', 'county', 'tract', 'block', 'POPDENSE', 'TC', 'CC',\n",
       "       'white_per', 'hisp_per', 'white_50', 'hisp_75', 'geometry'],\n",
       "      dtype='object')"
      ]
     },
     "execution_count": 3,
     "metadata": {},
     "output_type": "execute_result"
    }
   ],
   "source": [
    "df = gpd.read_file('../data/joins/ejblocks.shp.zip')\n",
    "df.columns"
   ]
  },
  {
   "cell_type": "code",
   "execution_count": 25,
   "metadata": {},
   "outputs": [
    {
     "data": {
      "text/plain": [
       "True"
      ]
     },
     "execution_count": 25,
     "metadata": {},
     "output_type": "execute_result"
    }
   ],
   "source": [
    "h3_to_h3t(df, '../data/joins/ejblocks.h3j')"
   ]
  },
  {
   "cell_type": "code",
   "execution_count": null,
   "metadata": {},
   "outputs": [],
   "source": []
  }
 ],
 "metadata": {
  "kernelspec": {
   "display_name": "ox",
   "language": "python",
   "name": "python3"
  },
  "language_info": {
   "codemirror_mode": {
    "name": "ipython",
    "version": 3
   },
   "file_extension": ".py",
   "mimetype": "text/x-python",
   "name": "python",
   "nbconvert_exporter": "python",
   "pygments_lexer": "ipython3",
   "version": "3.11.0"
  },
  "orig_nbformat": 4
 },
 "nbformat": 4,
 "nbformat_minor": 2
}
