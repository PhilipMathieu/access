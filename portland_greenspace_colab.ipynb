version https://git-lfs.github.com/spec/v1
oid sha256:52ef81ae4b193d31e6bd9b2f25fe21d95a5f47a8dfdc7ae94ff6248a04ae05c9
size 5680944
